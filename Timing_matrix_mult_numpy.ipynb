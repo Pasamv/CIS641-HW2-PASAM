{
  "nbformat": 4,
  "nbformat_minor": 0,
  "metadata": {
    "colab": {
      "provenance": [],
      "include_colab_link": true
    },
    "kernelspec": {
      "name": "python3",
      "display_name": "Python 3"
    },
    "language_info": {
      "name": "python"
    }
  },
  "cells": [
    {
      "cell_type": "markdown",
      "metadata": {
        "id": "view-in-github",
        "colab_type": "text"
      },
      "source": [
        "<a href=\"https://colab.research.google.com/github/Pasamv/CIS641-HW2-PASAM/blob/main/Timing_matrix_mult_numpy.ipynb\" target=\"_parent\"><img src=\"https://colab.research.google.com/assets/colab-badge.svg\" alt=\"Open In Colab\"/></a>"
      ]
    },
    {
      "cell_type": "markdown",
      "source": [
        "## Timing the execution of matrix multiplication\n",
        "A comparison between pure python code and using the numpy library."
      ],
      "metadata": {
        "id": "ooH-MKHAYxWu"
      }
    },
    {
      "cell_type": "code",
      "execution_count": null,
      "metadata": {
        "colab": {
          "base_uri": "https://localhost:8080/"
        },
        "id": "uR4UEVmo13de",
        "outputId": "ee4ea734-1369-4be9-e97e-28f3b34b7e22"
      },
      "outputs": [
        {
          "output_type": "stream",
          "name": "stdout",
          "text": [
            "Writing command_line_arguments.py\n"
          ]
        }
      ],
      "source": [
        "%%writefile command_line_arguments.py\n",
        "import sys\n",
        "n = int(sys.argv[1])\n",
        "print(n)"
      ]
    },
    {
      "cell_type": "code",
      "source": [
        "!python command_line_arguments.py 10"
      ],
      "metadata": {
        "colab": {
          "base_uri": "https://localhost:8080/"
        },
        "id": "maGYB5XP2OCD",
        "outputId": "4b6c8068-c2c4-4512-d90c-6386c143053a"
      },
      "execution_count": null,
      "outputs": [
        {
          "output_type": "stream",
          "name": "stdout",
          "text": [
            "10\n"
          ]
        }
      ]
    },
    {
      "cell_type": "code",
      "source": [
        "%%writefile multiply_matrices.py\n",
        "import sys\n",
        "import numpy as np\n",
        "import time\n",
        "n = int(sys.argv[1])\n",
        "print(\"Matrix size: \",n)\n",
        "# Generate the first matrix\n",
        "a = np.arange(n*n).reshape((n,n))\n",
        "b = np.eye(n)\n",
        "c = np.zeros((n,n))\n",
        "# print(a)\n",
        "# print(b)\n",
        "\n",
        "# Time the matrix multiplication using the traditional code\n",
        "start = time.time()\n",
        "for i in range(n):\n",
        "    for j in range(n):\n",
        "        for k in range(n):\n",
        "            c[i,j] += a[i,k]*b[k,j]\n",
        "end = time.time()\n",
        "print(\"Traditional code: \",end-start,\" seconds.\")\n",
        "# print(c)\n",
        "\n",
        "d = np.zeros((n,n))\n",
        "# Time the matrix multiplication using numpy\n",
        "start = time.time()\n",
        "d = np.matmul(a,b)\n",
        "end = time.time()\n",
        "print(\"With numpy: \",end-start,\" seconds.\")\n",
        "# print(d)\n"
      ],
      "metadata": {
        "colab": {
          "base_uri": "https://localhost:8080/"
        },
        "id": "oV8uv7yB2XT7",
        "outputId": "94479bb5-6ed8-492f-c0ba-4052ad87dbcc"
      },
      "execution_count": null,
      "outputs": [
        {
          "output_type": "stream",
          "name": "stdout",
          "text": [
            "Writing multiply_matrices.py\n"
          ]
        }
      ]
    },
    {
      "cell_type": "code",
      "source": [
        "!python multiply_matrices.py 10"
      ],
      "metadata": {
        "colab": {
          "base_uri": "https://localhost:8080/"
        },
        "id": "iSsQU_mX3prT",
        "outputId": "4e1a911c-648d-419b-b1ea-23e4f2cd907d"
      },
      "execution_count": null,
      "outputs": [
        {
          "output_type": "stream",
          "name": "stdout",
          "text": [
            "Matrix size:  10\n",
            "Traditional code:  0.0032448768615722656\n",
            "With numpy:  0.00464630126953125\n"
          ]
        }
      ]
    },
    {
      "cell_type": "code",
      "source": [
        "!python multiply_matrices.py 200\n",
        "!python multiply_matrices.py 300\n",
        "!python multiply_matrices.py 400\n",
        "!python multiply_matrices.py 500"
      ],
      "metadata": {
        "colab": {
          "base_uri": "https://localhost:8080/"
        },
        "id": "qEmwQ7uF5sW0",
        "outputId": "b7f5c658-9365-45de-8778-7e03960ea126"
      },
      "execution_count": null,
      "outputs": [
        {
          "output_type": "stream",
          "name": "stdout",
          "text": [
            "Matrix size:  200\n",
            "Traditional code:  18.587762117385864\n",
            "With numpy:  0.006696939468383789\n",
            "Matrix size:  300\n",
            "Traditional code:  33.29768419265747\n",
            "With numpy:  0.003542661666870117\n",
            "Matrix size:  400\n",
            "Traditional code:  68.1230239868164\n",
            "With numpy:  0.0072896480560302734\n",
            "Matrix size:  500\n",
            "Traditional code:  136.0694706439972\n",
            "With numpy:  0.01209402084350586\n"
          ]
        }
      ]
    },
    {
      "cell_type": "code",
      "source": [],
      "metadata": {
        "id": "yhwRJNUZuk5K"
      },
      "execution_count": null,
      "outputs": []
    },
    {
      "cell_type": "markdown",
      "source": [
        "Now, just numpy"
      ],
      "metadata": {
        "id": "hA_Az2P8upcZ"
      }
    },
    {
      "cell_type": "code",
      "source": [
        "%%writefile numpy_multiply_matrices.py\n",
        "import sys\n",
        "import numpy as np\n",
        "import time\n",
        "n = int(sys.argv[1])\n",
        "print(\"Matrix size: \",n)\n",
        "# Generate the first matrix\n",
        "a = np.arange(n*n).reshape((n,n))\n",
        "b = np.eye(n)\n",
        "c = np.zeros((n,n))\n",
        "# print(a)\n",
        "# print(b)\n",
        "# Time the matrix multiplication using numpy\n",
        "start = time.time()\n",
        "c = np.matmul(a,b)\n",
        "end = time.time()\n",
        "print(\"With numpy: \",end-start)\n",
        "# print(d)"
      ],
      "metadata": {
        "colab": {
          "base_uri": "https://localhost:8080/"
        },
        "id": "mBiedJFiun8b",
        "outputId": "ad28dec2-7609-4057-ba5a-456632566fce"
      },
      "execution_count": null,
      "outputs": [
        {
          "output_type": "stream",
          "name": "stdout",
          "text": [
            "Writing numpy_multiply_matrices.py\n"
          ]
        }
      ]
    },
    {
      "cell_type": "code",
      "source": [
        "!python numpy_multiply_matrices.py 2000\n",
        "!python numpy_multiply_matrices.py 3000\n",
        "!python numpy_multiply_matrices.py 4000\n",
        "!python numpy_multiply_matrices.py 5000"
      ],
      "metadata": {
        "colab": {
          "base_uri": "https://localhost:8080/"
        },
        "id": "uF7Gl5TLu2Li",
        "outputId": "69193107-c4db-4a77-bd17-e2ded3e50310"
      },
      "execution_count": null,
      "outputs": [
        {
          "output_type": "stream",
          "name": "stdout",
          "text": [
            "Matrix size:  2000\n",
            "With numpy:  0.5814521312713623\n",
            "Matrix size:  3000\n",
            "With numpy:  1.7291691303253174\n",
            "Matrix size:  4000\n",
            "With numpy:  4.302382230758667\n",
            "Matrix size:  5000\n",
            "With numpy:  8.556269407272339\n"
          ]
        }
      ]
    }
  ]
}